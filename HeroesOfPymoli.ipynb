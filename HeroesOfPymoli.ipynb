{
 "metadata": {
  "language_info": {
   "codemirror_mode": {
    "name": "ipython",
    "version": 3
   },
   "file_extension": ".py",
   "mimetype": "text/x-python",
   "name": "python",
   "nbconvert_exporter": "python",
   "pygments_lexer": "ipython3",
   "version": "3.6.10-final"
  },
  "orig_nbformat": 2,
  "kernelspec": {
   "name": "python3610jvsc74a57bd038f934b83c7878c7af716cf61b4a3e24bc3639c5744e081035f4202c89c484f1",
   "display_name": "Python 3.6.10 64-bit ('PythonData': conda)"
  }
 },
 "nbformat": 4,
 "nbformat_minor": 2,
 "cells": [
  {
   "cell_type": "code",
   "execution_count": null,
   "metadata": {},
   "outputs": [],
   "source": [
    "import pandas as pd\n",
    "import os"
   ]
  },
  {
   "cell_type": "code",
   "execution_count": null,
   "metadata": {},
   "outputs": [],
   "source": [
    "datums = os.path.join(\"resources\",\"purchase_data.csv\")\n",
    "purchase_df = pd.read_csv(datums)\n"
   ]
  },
  {
   "cell_type": "code",
   "execution_count": null,
   "metadata": {},
   "outputs": [],
   "source": [
    "#the total number of unique playersa\n",
    "player_num = [len(purchase_df['SN'].unique())]\n",
    "total_players_df = pd.DataFrame(player_num, columns=['Total Players'])\n",
    "total_players_df"
   ]
  },
  {
   "cell_type": "code",
   "execution_count": null,
   "metadata": {},
   "outputs": [],
   "source": [
    "#Purchasing Analysis\n",
    "\n",
    "number_of_items = len(purchase_df['Item ID'].unique())\n",
    "item_average_price = purchase_df['Price'].mean()\n",
    "number_of_purchases = purchase_df['SN'].count()\n",
    "total_revenue = purchase_df['Price'].sum()\n",
    "data = [{'Number of Unique Items ' : number_of_items , 'Average Price' : item_average_price , 'Number of Purchases' : number_of_purchases , 'Total Revenue' : total_revenue}]\n",
    "summary_df = pd.DataFrame(data)\n",
    "\n",
    "#formatting\n",
    "summary_df['Average Price'] = summary_df['Average Price'].astype(float).map(\"${:,.2f}\".format)\n",
    "summary_df['Total Revenue'] = summary_df['Total Revenue'].astype(float).map(\"${:,.2f}\".format)\n",
    "\n",
    "summary_df\n",
    "\n",
    "#hosted_in_us_df[\"average_donation\"] = hosted_in_us_df[ \"average_donation\"].astype(float).map(\"${:,.2f}\".format)\n",
    "#file_df[\"population\"] = file_df[\"population\"].map(\"{:,.1f}\".format)"
   ]
  },
  {
   "cell_type": "code",
   "execution_count": null,
   "metadata": {},
   "outputs": [],
   "source": [
    "#Gender Demographics\n",
    "gender_counts = purchase_df[\"Gender\"].value_counts()\n",
    "\n",
    "male_df = purchase_df[purchase_df['Gender'] == 'Male']\n",
    "male_total = len(male_df['SN'].unique())\n",
    "female_df = purchase_df[purchase_df['Gender'] == 'Female']\n",
    "female_total = len(female_df['SN'].unique())\n",
    "\n",
    "other_df = purchase_df[(purchase_df['Gender'] !='Male') & (purchase_df['Gender'] !='Female') ]\n",
    "other_total = len(other_df['SN'].unique())\n",
    "\n",
    "overall_total = male_total + female_total + other_total\n",
    "gender_summary = pd.DataFrame({\n",
    "    'Total Count' : [male_total, female_total, other_total],\n",
    "    \"Percentage\" : [male_total/overall_total*100, female_total/overall_total*100, other_total/overall_total*100]\n",
    "    }, index=[\"Male\", \"Female\", \"Other\"])\n",
    "\n",
    "#formating\n",
    "gender_summary['Percentage'] = gender_summary['Percentage'].astype(float).map(\"{:,.2f}%\".format)\n",
    "\n",
    "gender_summary"
   ]
  },
  {
   "cell_type": "code",
   "execution_count": null,
   "metadata": {},
   "outputs": [],
   "source": [
    "#Purchasing Analysis (Gender)\n",
    "gender_counts\n",
    "purchase_df\n",
    "\n",
    "male_gamerz = purchase_df.loc[purchase_df['Gender'] == 'Male']\n",
    "female_gamerz = purchase_df.loc[purchase_df['Gender'] == 'Female']\n",
    "other_gamerz = purchase_df.loc[(purchase_df['Gender'] != 'Female') & (purchase_df['Gender'] != 'Male')]\n",
    "\n",
    "unique_male_gamers = male_gamerz.groupby(\"SN\").sum()\n",
    "unique_female_gamers = female_gamerz.groupby('SN').sum()\n",
    "unique_other_gamers = other_gamerz.groupby('SN').sum()\n",
    "\n",
    "#creates a lil summary table \n",
    "datums = {\n",
    "    \"Purchase Price\" : [male_gamerz['Price'].count(), female_gamerz['Price'].count() , other_gamerz['Price'].count()],\n",
    "    \"Average Purchase Price\": [male_gamerz['Price'].sum()/male_gamerz['Price'].count(),female_gamerz['Price'].sum()/female_gamerz['Price'].count(), other_gamerz['Price'].sum()/other_gamerz['Price'].count()] ,\n",
    "    \"Total Purchase Value\" : [male_gamerz['Price'].sum() , female_gamerz['Price'].sum(), other_gamerz['Price'].sum()],\n",
    "    \"Average Total Purchase Per Person\" : [unique_male_gamers['Price'].sum()/unique_male_gamers['Price'].count(), unique_female_gamers['Price'].sum()/unique_female_gamers['Price'].count(), unique_other_gamers['Price'].sum()/unique_other_gamers['Price'].count()]\n",
    "     \n",
    "     \n",
    "}\n",
    "\n",
    "gender_analytics_df = pd.DataFrame(datums, index=[\"Male\", \"Female\", \"Other\"])\n",
    "\n",
    "#formatting\n",
    "gender_analytics_df['Average Purchase Price'] = gender_analytics_df['Average Purchase Price'].astype(float).map(\"${:,.2f}\".format)\n",
    "gender_analytics_df['Total Purchase Value'] = gender_analytics_df['Total Purchase Value'].astype(float).map(\"${:,.2f}\".format)\n",
    "gender_analytics_df['Average Total Purchase Per Person'] = gender_analytics_df[\"Average Total Purchase Per Person\"].astype(float).map(\"${:,.2f}\".format)\n",
    "\n",
    "gender_analytics_df \n"
   ]
  },
  {
   "cell_type": "code",
   "execution_count": null,
   "metadata": {},
   "outputs": [],
   "source": [
    "#age demographics \n",
    "#make bins from 0-10, 10-20, 20-30, 30-40, 40-50, 50-60, 60-70, 70-80, 80-90, 90-100.\n",
    "bins = [0,10,15,20,25,30,35,40,100]\n",
    "group_names = [\"<10\",'10-14', '15-19', '20-24', '25-29', '30-34','35-39', '40+']\n",
    "purchase_df['Age Range'] = pd.cut(purchase_df['Age'], bins, labels=group_names, right=False )\n",
    "purchase_df\n",
    "\n",
    "age_groups = purchase_df.groupby('Age Range')\n",
    "age_count = age_groups['SN'].nunique()\n",
    "age_percent = (age_count/player_num)*100\n",
    "\n",
    "age_summary_df = pd.DataFrame({\n",
    "    \"Total Count\" : age_count,\n",
    "    \"Percentage of Players\" : age_percent\n",
    "})\n",
    "\n",
    "#formattin\n",
    "age_summary_df['Percentage of Players'] = age_summary_df['Percentage of Players'].astype(float).map(\"{:,.2f}%\".format)\n",
    "\n",
    "age_summary_df"
   ]
  },
  {
   "cell_type": "code",
   "execution_count": null,
   "metadata": {},
   "outputs": [],
   "source": [
    "age_groups = purchase_df.groupby(\"Age Range\")\n",
    "\n",
    "ages_bin = age_groups['SN'].count()\n",
    "\n",
    "average_price_by_age = age_groups['Price'].mean()\n",
    "total_sales_by_age = age_groups['Price'].sum()\n",
    "\n",
    "unique_gamers_count = age_groups['SN'].nunique()\n",
    "\n",
    "average_per_person = total_sales_by_age/unique_gamers_count\n",
    "\n",
    "age_df = pd.DataFrame({\n",
    "    'Purchase Count' : ages_bin, \n",
    "    'Average Purchase Price' : average_price_by_age,\n",
    "    'Total Purchase Value' : total_sales_by_age,\n",
    "    'Avg Total Purchase Per Person' : average_per_person\n",
    "    \n",
    "    })\n",
    "\n",
    "#formatting\n",
    "age_df['Average Purchase Price'] = age_df['Average Purchase Price'].astype(float).map(\"${:,.2f}\".format)\n",
    "age_df['Total Purchase Value'] = age_df['Total Purchase Value'].astype(float).map(\"${:,.2f}\".format)\n",
    "age_df['Avg Total Purchase Per Person'] = age_df[\"Avg Total Purchase Per Person\"].astype(float).map(\"${:,.2f}\".format)\n",
    "\n",
    "age_df"
   ]
  },
  {
   "cell_type": "code",
   "execution_count": null,
   "metadata": {},
   "outputs": [],
   "source": [
    "#big spenders in da game \n",
    "\n",
    "big_spenders = purchase_df.groupby('SN')\n",
    "spender_count = big_spenders['Purchase ID'].count()\n",
    "average_price = big_spenders['Price'].mean()\n",
    "total_purchase_value = big_spenders['Price'].sum()\n",
    "\n",
    "big_spender_df = pd.DataFrame({\n",
    "    'Purchase Count' : spender_count,\n",
    "    'Average Purchase Price' : average_price,\n",
    "    'Total Purchase Value' : total_purchase_value\n",
    "})\n",
    "\n",
    "big_spender_df\n",
    "\n",
    "sorted_big_spender = big_spender_df.sort_values(['Total Purchase Value'], ascending=False)\n",
    "\n",
    "#formatting\n",
    "sorted_big_spender['Average Purchase Price'] = sorted_big_spender['Average Purchase Price'].astype(float).map(\"${:,.2f}\".format)\n",
    "sorted_big_spender['Total Purchase Value'] = sorted_big_spender[\"Total Purchase Value\"].astype(float).map(\"${:,.2f}\".format)\n",
    "\n",
    "sorted_big_spender.head()\n"
   ]
  },
  {
   "cell_type": "code",
   "execution_count": null,
   "metadata": {},
   "outputs": [],
   "source": [
    "#Popular Items\n",
    "popular_items_df = purchase_df[['Item ID', 'Item Name', 'Price']]\n",
    "popular_items = popular_items_df.groupby(['Item ID','Item Name'])\n",
    "\n",
    "total_purchases = popular_items['Price'].count()\n",
    "\n",
    "total_item_purchase_value = popular_items[\"Price\"].sum()\n",
    "\n",
    "item_price = total_item_purchase_value/total_purchases\n",
    "\n",
    "hottest_items = pd.DataFrame({\n",
    "    'Purchase Count': total_purchases,\n",
    "    'Item Price': item_price,\n",
    "    'Total Purchase Value' : total_item_purchase_value\n",
    "})\n",
    "hottest_items_sorted = hottest_items.sort_values(['Purchase Count'], ascending=False)\n",
    "\n",
    "#formatting\n",
    "hottest_items_sorted['Item Price'] = hottest_items_sorted['Item Price'].astype(float).map(\"${:,.2f}\".format)\n",
    "hottest_items_sorted['Total Purchase Value'] = hottest_items_sorted[\"Total Purchase Value\"].astype(float).map(\"${:,.2f}\".format)\n",
    "\n",
    "hottest_items_sorted.head()\n"
   ]
  },
  {
   "cell_type": "code",
   "execution_count": null,
   "metadata": {},
   "outputs": [],
   "source": [
    "#Most Profitable Items\n",
    "\n",
    "profitable_items = hottest_items.sort_values('Total Purchase Value', ascending=False)\n",
    "\n",
    "#formatting\n",
    "profitable_items['Item Price'] = profitable_items['Item Price'].astype(float).map(\"${:,.2f}\".format)\n",
    "profitable_items['Total Purchase Value'] = profitable_items[\"Total Purchase Value\"].astype(float).map(\"${:,.2f}\".format)\n",
    "\n",
    "profitable_items.head()"
   ]
  },
  {
   "cell_type": "code",
   "execution_count": null,
   "metadata": {},
   "outputs": [],
   "source": []
  },
  {
   "cell_type": "code",
   "execution_count": null,
   "metadata": {},
   "outputs": [],
   "source": []
  }
 ]
}