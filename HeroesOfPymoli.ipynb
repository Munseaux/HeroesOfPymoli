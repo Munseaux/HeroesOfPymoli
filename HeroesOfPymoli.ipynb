{
 "metadata": {
  "language_info": {
   "codemirror_mode": {
    "name": "ipython",
    "version": 3
   },
   "file_extension": ".py",
   "mimetype": "text/x-python",
   "name": "python",
   "nbconvert_exporter": "python",
   "pygments_lexer": "ipython3",
   "version": "3.8.5"
  },
  "orig_nbformat": 2,
  "kernelspec": {
   "name": "python3",
   "display_name": "Python 3.8.5 64-bit ('base': conda)",
   "metadata": {
    "interpreter": {
     "hash": "cd69cb54b41b94f0c0aacacf50caad7930c03169e72f28a4d7f09d1fd0a35796"
    }
   }
  }
 },
 "nbformat": 4,
 "nbformat_minor": 2,
 "cells": [
  {
   "cell_type": "code",
   "execution_count": 1,
   "metadata": {},
   "outputs": [],
   "source": [
    "import pandas as pd\n",
    "import os"
   ]
  },
  {
   "cell_type": "code",
   "execution_count": 2,
   "metadata": {},
   "outputs": [],
   "source": [
    "datums = os.path.join(\"resources\",\"purchase_data.csv\")\n",
    "purchase_df = pd.read_csv(datums)\n"
   ]
  },
  {
   "cell_type": "code",
   "execution_count": 3,
   "metadata": {},
   "outputs": [
    {
     "output_type": "execute_result",
     "data": {
      "text/plain": [
       "   Total Players\n",
       "0            576"
      ],
      "text/html": "<div>\n<style scoped>\n    .dataframe tbody tr th:only-of-type {\n        vertical-align: middle;\n    }\n\n    .dataframe tbody tr th {\n        vertical-align: top;\n    }\n\n    .dataframe thead th {\n        text-align: right;\n    }\n</style>\n<table border=\"1\" class=\"dataframe\">\n  <thead>\n    <tr style=\"text-align: right;\">\n      <th></th>\n      <th>Total Players</th>\n    </tr>\n  </thead>\n  <tbody>\n    <tr>\n      <th>0</th>\n      <td>576</td>\n    </tr>\n  </tbody>\n</table>\n</div>"
     },
     "metadata": {},
     "execution_count": 3
    }
   ],
   "source": [
    "#the total number of unique playersa\n",
    "player_num = [len(purchase_df['SN'].unique())]\n",
    "total_players_df = pd.DataFrame(player_num, columns=['Total Players'])\n",
    "total_players_df"
   ]
  },
  {
   "cell_type": "code",
   "execution_count": 4,
   "metadata": {},
   "outputs": [
    {
     "output_type": "execute_result",
     "data": {
      "text/plain": [
       "   Number of Unique Items  Average Price  Number of Purchases Total Revenue\n",
       "0                      179         $3.05                  780     $2,379.77"
      ],
      "text/html": "<div>\n<style scoped>\n    .dataframe tbody tr th:only-of-type {\n        vertical-align: middle;\n    }\n\n    .dataframe tbody tr th {\n        vertical-align: top;\n    }\n\n    .dataframe thead th {\n        text-align: right;\n    }\n</style>\n<table border=\"1\" class=\"dataframe\">\n  <thead>\n    <tr style=\"text-align: right;\">\n      <th></th>\n      <th>Number of Unique Items</th>\n      <th>Average Price</th>\n      <th>Number of Purchases</th>\n      <th>Total Revenue</th>\n    </tr>\n  </thead>\n  <tbody>\n    <tr>\n      <th>0</th>\n      <td>179</td>\n      <td>$3.05</td>\n      <td>780</td>\n      <td>$2,379.77</td>\n    </tr>\n  </tbody>\n</table>\n</div>"
     },
     "metadata": {},
     "execution_count": 4
    }
   ],
   "source": [
    "#Purchasing Analysis\n",
    "\n",
    "number_of_items = len(purchase_df['Item ID'].unique())\n",
    "item_average_price = purchase_df['Price'].mean()\n",
    "number_of_purchases = purchase_df['SN'].count()\n",
    "total_revenue = purchase_df['Price'].sum()\n",
    "data = [{'Number of Unique Items ' : number_of_items , 'Average Price' : item_average_price , 'Number of Purchases' : number_of_purchases , 'Total Revenue' : total_revenue}]\n",
    "summary_df = pd.DataFrame(data)\n",
    "\n",
    "#formatting\n",
    "summary_df['Average Price'] = summary_df['Average Price'].astype(float).map(\"${:,.2f}\".format)\n",
    "summary_df['Total Revenue'] = summary_df['Total Revenue'].astype(float).map(\"${:,.2f}\".format)\n",
    "\n",
    "summary_df\n",
    "\n",
    "#hosted_in_us_df[\"average_donation\"] = hosted_in_us_df[ \"average_donation\"].astype(float).map(\"${:,.2f}\".format)\n",
    "#file_df[\"population\"] = file_df[\"population\"].map(\"{:,.1f}\".format)"
   ]
  },
  {
   "cell_type": "code",
   "execution_count": 5,
   "metadata": {},
   "outputs": [
    {
     "output_type": "execute_result",
     "data": {
      "text/plain": [
       "   Total Count Percentage\n",
       "0          484     84.03%\n",
       "1           81     14.06%\n",
       "2           11      1.91%"
      ],
      "text/html": "<div>\n<style scoped>\n    .dataframe tbody tr th:only-of-type {\n        vertical-align: middle;\n    }\n\n    .dataframe tbody tr th {\n        vertical-align: top;\n    }\n\n    .dataframe thead th {\n        text-align: right;\n    }\n</style>\n<table border=\"1\" class=\"dataframe\">\n  <thead>\n    <tr style=\"text-align: right;\">\n      <th></th>\n      <th>Total Count</th>\n      <th>Percentage</th>\n    </tr>\n  </thead>\n  <tbody>\n    <tr>\n      <th>0</th>\n      <td>484</td>\n      <td>84.03%</td>\n    </tr>\n    <tr>\n      <th>1</th>\n      <td>81</td>\n      <td>14.06%</td>\n    </tr>\n    <tr>\n      <th>2</th>\n      <td>11</td>\n      <td>1.91%</td>\n    </tr>\n  </tbody>\n</table>\n</div>"
     },
     "metadata": {},
     "execution_count": 5
    }
   ],
   "source": [
    "#Gender Demographics\n",
    "gender_counts = purchase_df[\"Gender\"].value_counts()\n",
    "\n",
    "male_df = purchase_df[purchase_df['Gender'] == 'Male']\n",
    "male_total = len(male_df['SN'].unique())\n",
    "female_df = purchase_df[purchase_df['Gender'] == 'Female']\n",
    "female_total = len(female_df['SN'].unique())\n",
    "\n",
    "other_df = purchase_df[(purchase_df['Gender'] !='Male') & (purchase_df['Gender'] !='Female') ]\n",
    "other_total = len(other_df['SN'].unique())\n",
    "\n",
    "overall_total = male_total + female_total + other_total\n",
    "gender_summary = pd.DataFrame({\n",
    "    'Total Count' : [male_total, female_total, other_total],\n",
    "    \"Percentage\" : [male_total/overall_total*100, female_total/overall_total*100, other_total/overall_total*100]\n",
    "    })\n",
    "\n",
    "#formating\n",
    "gender_summary['Percentage'] = gender_summary['Percentage'].astype(float).map(\"{:,.2f}%\".format)\n",
    "\n",
    "gender_summary"
   ]
  },
  {
   "cell_type": "code",
   "execution_count": 12,
   "metadata": {},
   "outputs": [
    {
     "output_type": "execute_result",
     "data": {
      "text/plain": [
       "        Purchase Price Average Purchase Price Total Purchase Value  \\\n",
       "Male               652                  $3.02            $1,967.64   \n",
       "Female             113                  $3.20              $361.94   \n",
       "Other               15                  $3.35               $50.19   \n",
       "\n",
       "       Average Total Purchase Per Person  \n",
       "Male                               $4.07  \n",
       "Female                             $4.47  \n",
       "Other                              $4.56  "
      ],
      "text/html": "<div>\n<style scoped>\n    .dataframe tbody tr th:only-of-type {\n        vertical-align: middle;\n    }\n\n    .dataframe tbody tr th {\n        vertical-align: top;\n    }\n\n    .dataframe thead th {\n        text-align: right;\n    }\n</style>\n<table border=\"1\" class=\"dataframe\">\n  <thead>\n    <tr style=\"text-align: right;\">\n      <th></th>\n      <th>Purchase Price</th>\n      <th>Average Purchase Price</th>\n      <th>Total Purchase Value</th>\n      <th>Average Total Purchase Per Person</th>\n    </tr>\n  </thead>\n  <tbody>\n    <tr>\n      <th>Male</th>\n      <td>652</td>\n      <td>$3.02</td>\n      <td>$1,967.64</td>\n      <td>$4.07</td>\n    </tr>\n    <tr>\n      <th>Female</th>\n      <td>113</td>\n      <td>$3.20</td>\n      <td>$361.94</td>\n      <td>$4.47</td>\n    </tr>\n    <tr>\n      <th>Other</th>\n      <td>15</td>\n      <td>$3.35</td>\n      <td>$50.19</td>\n      <td>$4.56</td>\n    </tr>\n  </tbody>\n</table>\n</div>"
     },
     "metadata": {},
     "execution_count": 12
    }
   ],
   "source": [
    "#Purchasing Analysis (Gender)\n",
    "gender_counts\n",
    "purchase_df\n",
    "\n",
    "male_gamerz = purchase_df.loc[purchase_df['Gender'] == 'Male']\n",
    "female_gamerz = purchase_df.loc[purchase_df['Gender'] == 'Female']\n",
    "other_gamerz = purchase_df.loc[(purchase_df['Gender'] != 'Female') & (purchase_df['Gender'] != 'Male')]\n",
    "\n",
    "unique_male_gamers = male_gamerz.groupby(\"SN\").sum()\n",
    "unique_female_gamers = female_gamerz.groupby('SN').sum()\n",
    "unique_other_gamers = other_gamerz.groupby('SN').sum()\n",
    "\n",
    "#creates a lil summary table \n",
    "datums = {\n",
    "    \"Purchase Price\" : [male_gamerz['Price'].count(), female_gamerz['Price'].count() , other_gamerz['Price'].count()],\n",
    "    \"Average Purchase Price\": [male_gamerz['Price'].sum()/male_gamerz['Price'].count(),female_gamerz['Price'].sum()/female_gamerz['Price'].count(), other_gamerz['Price'].sum()/other_gamerz['Price'].count()] ,\n",
    "    \"Total Purchase Value\" : [male_gamerz['Price'].sum() , female_gamerz['Price'].sum(), other_gamerz['Price'].sum()],\n",
    "    \"Average Total Purchase Per Person\" : [unique_male_gamers['Price'].sum()/unique_male_gamers['Price'].count(), unique_female_gamers['Price'].sum()/unique_female_gamers['Price'].count(), unique_other_gamers['Price'].sum()/unique_other_gamers['Price'].count()]\n",
    "     \n",
    "     \n",
    "}\n",
    "\n",
    "gender_analytics_df = pd.DataFrame(datums, index=[\"Male\", \"Female\", \"Other\"])\n",
    "\n",
    "#formatting\n",
    "gender_analytics_df['Average Purchase Price'] = gender_analytics_df['Average Purchase Price'].astype(float).map(\"${:,.2f}\".format)\n",
    "gender_analytics_df['Total Purchase Value'] = gender_analytics_df['Total Purchase Value'].astype(float).map(\"${:,.2f}\".format)\n",
    "gender_analytics_df['Average Total Purchase Per Person'] = gender_analytics_df[\"Average Total Purchase Per Person\"].astype(float).map(\"${:,.2f}\".format)\n",
    "\n",
    "gender_analytics_df \n"
   ]
  },
  {
   "cell_type": "code",
   "execution_count": 7,
   "metadata": {},
   "outputs": [
    {
     "output_type": "execute_result",
     "data": {
      "text/plain": [
       "           Total Count Percentage of Players\n",
       "Age Range                                   \n",
       "<10                 17                 2.95%\n",
       "10-14               22                 3.82%\n",
       "15-19              107                18.58%\n",
       "20-24              258                44.79%\n",
       "25-29               77                13.37%\n",
       "30-34               52                 9.03%\n",
       "35-39               31                 5.38%\n",
       "40+                 12                 2.08%"
      ],
      "text/html": "<div>\n<style scoped>\n    .dataframe tbody tr th:only-of-type {\n        vertical-align: middle;\n    }\n\n    .dataframe tbody tr th {\n        vertical-align: top;\n    }\n\n    .dataframe thead th {\n        text-align: right;\n    }\n</style>\n<table border=\"1\" class=\"dataframe\">\n  <thead>\n    <tr style=\"text-align: right;\">\n      <th></th>\n      <th>Total Count</th>\n      <th>Percentage of Players</th>\n    </tr>\n    <tr>\n      <th>Age Range</th>\n      <th></th>\n      <th></th>\n    </tr>\n  </thead>\n  <tbody>\n    <tr>\n      <th>&lt;10</th>\n      <td>17</td>\n      <td>2.95%</td>\n    </tr>\n    <tr>\n      <th>10-14</th>\n      <td>22</td>\n      <td>3.82%</td>\n    </tr>\n    <tr>\n      <th>15-19</th>\n      <td>107</td>\n      <td>18.58%</td>\n    </tr>\n    <tr>\n      <th>20-24</th>\n      <td>258</td>\n      <td>44.79%</td>\n    </tr>\n    <tr>\n      <th>25-29</th>\n      <td>77</td>\n      <td>13.37%</td>\n    </tr>\n    <tr>\n      <th>30-34</th>\n      <td>52</td>\n      <td>9.03%</td>\n    </tr>\n    <tr>\n      <th>35-39</th>\n      <td>31</td>\n      <td>5.38%</td>\n    </tr>\n    <tr>\n      <th>40+</th>\n      <td>12</td>\n      <td>2.08%</td>\n    </tr>\n  </tbody>\n</table>\n</div>"
     },
     "metadata": {},
     "execution_count": 7
    }
   ],
   "source": [
    "#age demographics \n",
    "#make bins from 0-10, 10-20, 20-30, 30-40, 40-50, 50-60, 60-70, 70-80, 80-90, 90-100.\n",
    "bins = [0,10,15,20,25,30,35,40,100]\n",
    "group_names = [\"<10\",'10-14', '15-19', '20-24', '25-29', '30-34','35-39', '40+']\n",
    "purchase_df['Age Range'] = pd.cut(purchase_df['Age'], bins, labels=group_names, right=False )\n",
    "purchase_df\n",
    "\n",
    "age_groups = purchase_df.groupby('Age Range')\n",
    "age_count = age_groups['SN'].nunique()\n",
    "age_percent = (age_count/player_num)*100\n",
    "\n",
    "age_summary_df = pd.DataFrame({\n",
    "    \"Total Count\" : age_count,\n",
    "    \"Percentage of Players\" : age_percent\n",
    "})\n",
    "\n",
    "#formattin\n",
    "age_summary_df['Percentage of Players'] = age_summary_df['Percentage of Players'].astype(float).map(\"{:,.2f}%\".format)\n",
    "\n",
    "age_summary_df"
   ]
  },
  {
   "cell_type": "code",
   "execution_count": 8,
   "metadata": {},
   "outputs": [
    {
     "output_type": "execute_result",
     "data": {
      "text/plain": [
       "           Purchase Count Average Purchase Price Total Purchase Value  \\\n",
       "Age Range                                                               \n",
       "<10                    23                  $3.35               $77.13   \n",
       "10-14                  28                  $2.96               $82.78   \n",
       "15-19                 136                  $3.04              $412.89   \n",
       "20-24                 365                  $3.05            $1,114.06   \n",
       "25-29                 101                  $2.90              $293.00   \n",
       "30-34                  73                  $2.93              $214.00   \n",
       "35-39                  41                  $3.60              $147.67   \n",
       "40+                    13                  $2.94               $38.24   \n",
       "\n",
       "          Avg Total Purchase Per Person  \n",
       "Age Range                                \n",
       "<10                               $4.54  \n",
       "10-14                             $3.76  \n",
       "15-19                             $3.86  \n",
       "20-24                             $4.32  \n",
       "25-29                             $3.81  \n",
       "30-34                             $4.12  \n",
       "35-39                             $4.76  \n",
       "40+                               $3.19  "
      ],
      "text/html": "<div>\n<style scoped>\n    .dataframe tbody tr th:only-of-type {\n        vertical-align: middle;\n    }\n\n    .dataframe tbody tr th {\n        vertical-align: top;\n    }\n\n    .dataframe thead th {\n        text-align: right;\n    }\n</style>\n<table border=\"1\" class=\"dataframe\">\n  <thead>\n    <tr style=\"text-align: right;\">\n      <th></th>\n      <th>Purchase Count</th>\n      <th>Average Purchase Price</th>\n      <th>Total Purchase Value</th>\n      <th>Avg Total Purchase Per Person</th>\n    </tr>\n    <tr>\n      <th>Age Range</th>\n      <th></th>\n      <th></th>\n      <th></th>\n      <th></th>\n    </tr>\n  </thead>\n  <tbody>\n    <tr>\n      <th>&lt;10</th>\n      <td>23</td>\n      <td>$3.35</td>\n      <td>$77.13</td>\n      <td>$4.54</td>\n    </tr>\n    <tr>\n      <th>10-14</th>\n      <td>28</td>\n      <td>$2.96</td>\n      <td>$82.78</td>\n      <td>$3.76</td>\n    </tr>\n    <tr>\n      <th>15-19</th>\n      <td>136</td>\n      <td>$3.04</td>\n      <td>$412.89</td>\n      <td>$3.86</td>\n    </tr>\n    <tr>\n      <th>20-24</th>\n      <td>365</td>\n      <td>$3.05</td>\n      <td>$1,114.06</td>\n      <td>$4.32</td>\n    </tr>\n    <tr>\n      <th>25-29</th>\n      <td>101</td>\n      <td>$2.90</td>\n      <td>$293.00</td>\n      <td>$3.81</td>\n    </tr>\n    <tr>\n      <th>30-34</th>\n      <td>73</td>\n      <td>$2.93</td>\n      <td>$214.00</td>\n      <td>$4.12</td>\n    </tr>\n    <tr>\n      <th>35-39</th>\n      <td>41</td>\n      <td>$3.60</td>\n      <td>$147.67</td>\n      <td>$4.76</td>\n    </tr>\n    <tr>\n      <th>40+</th>\n      <td>13</td>\n      <td>$2.94</td>\n      <td>$38.24</td>\n      <td>$3.19</td>\n    </tr>\n  </tbody>\n</table>\n</div>"
     },
     "metadata": {},
     "execution_count": 8
    }
   ],
   "source": [
    "age_groups = purchase_df.groupby(\"Age Range\")\n",
    "\n",
    "ages_bin = age_groups['Age Range'].count()\n",
    "\n",
    "average_price_by_age = age_groups['Price'].mean()\n",
    "total_sales_by_age = age_groups['Price'].sum()\n",
    "\n",
    "unique_gamers_count = age_groups['SN'].nunique()\n",
    "\n",
    "average_per_person = total_sales_by_age/unique_gamers_count\n",
    "\n",
    "age_df = pd.DataFrame({\n",
    "    'Purchase Count' : ages_bin, \n",
    "    'Average Purchase Price' : average_price_by_age,\n",
    "    'Total Purchase Value' : total_sales_by_age,\n",
    "    'Avg Total Purchase Per Person' : average_per_person\n",
    "    \n",
    "    })\n",
    "\n",
    "#formatting\n",
    "age_df['Average Purchase Price'] = age_df['Average Purchase Price'].astype(float).map(\"${:,.2f}\".format)\n",
    "age_df['Total Purchase Value'] = age_df['Total Purchase Value'].astype(float).map(\"${:,.2f}\".format)\n",
    "age_df['Avg Total Purchase Per Person'] = age_df[\"Avg Total Purchase Per Person\"].astype(float).map(\"${:,.2f}\".format)\n",
    "\n",
    "age_df"
   ]
  },
  {
   "cell_type": "code",
   "execution_count": 9,
   "metadata": {},
   "outputs": [
    {
     "output_type": "execute_result",
     "data": {
      "text/plain": [
       "             Purchase Count Average Purchase Price Total Purchase Value\n",
       "SN                                                                     \n",
       "Lisosia93                 5                  $3.79               $18.96\n",
       "Idastidru52               4                  $3.86               $15.45\n",
       "Chamjask73                3                  $4.61               $13.83\n",
       "Iral74                    4                  $3.40               $13.62\n",
       "Iskadarya95               3                  $4.37               $13.10"
      ],
      "text/html": "<div>\n<style scoped>\n    .dataframe tbody tr th:only-of-type {\n        vertical-align: middle;\n    }\n\n    .dataframe tbody tr th {\n        vertical-align: top;\n    }\n\n    .dataframe thead th {\n        text-align: right;\n    }\n</style>\n<table border=\"1\" class=\"dataframe\">\n  <thead>\n    <tr style=\"text-align: right;\">\n      <th></th>\n      <th>Purchase Count</th>\n      <th>Average Purchase Price</th>\n      <th>Total Purchase Value</th>\n    </tr>\n    <tr>\n      <th>SN</th>\n      <th></th>\n      <th></th>\n      <th></th>\n    </tr>\n  </thead>\n  <tbody>\n    <tr>\n      <th>Lisosia93</th>\n      <td>5</td>\n      <td>$3.79</td>\n      <td>$18.96</td>\n    </tr>\n    <tr>\n      <th>Idastidru52</th>\n      <td>4</td>\n      <td>$3.86</td>\n      <td>$15.45</td>\n    </tr>\n    <tr>\n      <th>Chamjask73</th>\n      <td>3</td>\n      <td>$4.61</td>\n      <td>$13.83</td>\n    </tr>\n    <tr>\n      <th>Iral74</th>\n      <td>4</td>\n      <td>$3.40</td>\n      <td>$13.62</td>\n    </tr>\n    <tr>\n      <th>Iskadarya95</th>\n      <td>3</td>\n      <td>$4.37</td>\n      <td>$13.10</td>\n    </tr>\n  </tbody>\n</table>\n</div>"
     },
     "metadata": {},
     "execution_count": 9
    }
   ],
   "source": [
    "#big spenders in da game \n",
    "\n",
    "big_spenders = purchase_df.groupby('SN')\n",
    "spender_count = big_spenders['Purchase ID'].count()\n",
    "average_price = big_spenders['Price'].mean()\n",
    "total_purchase_value = big_spenders['Price'].sum()\n",
    "\n",
    "big_spender_df = pd.DataFrame({\n",
    "    'Purchase Count' : spender_count,\n",
    "    'Average Purchase Price' : average_price,\n",
    "    'Total Purchase Value' : total_purchase_value\n",
    "})\n",
    "\n",
    "big_spender_df\n",
    "\n",
    "sorted_big_spender = big_spender_df.sort_values(['Total Purchase Value'], ascending=False)\n",
    "\n",
    "#formatting\n",
    "sorted_big_spender['Average Purchase Price'] = sorted_big_spender['Average Purchase Price'].astype(float).map(\"${:,.2f}\".format)\n",
    "sorted_big_spender['Total Purchase Value'] = sorted_big_spender[\"Total Purchase Value\"].astype(float).map(\"${:,.2f}\".format)\n",
    "\n",
    "sorted_big_spender.head(5)"
   ]
  },
  {
   "cell_type": "code",
   "execution_count": 10,
   "metadata": {},
   "outputs": [
    {
     "output_type": "execute_result",
     "data": {
      "text/plain": [
       "                                                      Purchase Count  \\\n",
       "Item ID Item Name                                                      \n",
       "92      Final Critic                                              13   \n",
       "178     Oathbreaker, Last Hope of the Breaking Storm              12   \n",
       "145     Fiery Glass Crusader                                       9   \n",
       "132     Persuasion                                                 9   \n",
       "108     Extraction, Quickblade Of Trembling Hands                  9   \n",
       "\n",
       "                                                     Item Price  \\\n",
       "Item ID Item Name                                                 \n",
       "92      Final Critic                                      $4.61   \n",
       "178     Oathbreaker, Last Hope of the Breaking Storm      $4.23   \n",
       "145     Fiery Glass Crusader                              $4.58   \n",
       "132     Persuasion                                        $3.22   \n",
       "108     Extraction, Quickblade Of Trembling Hands         $3.53   \n",
       "\n",
       "                                                     Total Purchase Value  \n",
       "Item ID Item Name                                                          \n",
       "92      Final Critic                                               $59.99  \n",
       "178     Oathbreaker, Last Hope of the Breaking Storm               $50.76  \n",
       "145     Fiery Glass Crusader                                       $41.22  \n",
       "132     Persuasion                                                 $28.99  \n",
       "108     Extraction, Quickblade Of Trembling Hands                  $31.77  "
      ],
      "text/html": "<div>\n<style scoped>\n    .dataframe tbody tr th:only-of-type {\n        vertical-align: middle;\n    }\n\n    .dataframe tbody tr th {\n        vertical-align: top;\n    }\n\n    .dataframe thead th {\n        text-align: right;\n    }\n</style>\n<table border=\"1\" class=\"dataframe\">\n  <thead>\n    <tr style=\"text-align: right;\">\n      <th></th>\n      <th></th>\n      <th>Purchase Count</th>\n      <th>Item Price</th>\n      <th>Total Purchase Value</th>\n    </tr>\n    <tr>\n      <th>Item ID</th>\n      <th>Item Name</th>\n      <th></th>\n      <th></th>\n      <th></th>\n    </tr>\n  </thead>\n  <tbody>\n    <tr>\n      <th>92</th>\n      <th>Final Critic</th>\n      <td>13</td>\n      <td>$4.61</td>\n      <td>$59.99</td>\n    </tr>\n    <tr>\n      <th>178</th>\n      <th>Oathbreaker, Last Hope of the Breaking Storm</th>\n      <td>12</td>\n      <td>$4.23</td>\n      <td>$50.76</td>\n    </tr>\n    <tr>\n      <th>145</th>\n      <th>Fiery Glass Crusader</th>\n      <td>9</td>\n      <td>$4.58</td>\n      <td>$41.22</td>\n    </tr>\n    <tr>\n      <th>132</th>\n      <th>Persuasion</th>\n      <td>9</td>\n      <td>$3.22</td>\n      <td>$28.99</td>\n    </tr>\n    <tr>\n      <th>108</th>\n      <th>Extraction, Quickblade Of Trembling Hands</th>\n      <td>9</td>\n      <td>$3.53</td>\n      <td>$31.77</td>\n    </tr>\n  </tbody>\n</table>\n</div>"
     },
     "metadata": {},
     "execution_count": 10
    }
   ],
   "source": [
    "#Popular Items\n",
    "popular_items_df = purchase_df[['Item ID', 'Item Name', 'Price']]\n",
    "popular_items = popular_items_df.groupby(['Item ID','Item Name'])\n",
    "\n",
    "total_purchases = popular_items['Price'].count()\n",
    "\n",
    "total_item_purchase_value = popular_items[\"Price\"].sum()\n",
    "\n",
    "item_price = total_item_purchase_value/total_purchases\n",
    "\n",
    "hottest_items = pd.DataFrame({\n",
    "    'Purchase Count': total_purchases,\n",
    "    'Item Price': item_price,\n",
    "    'Total Purchase Value' : total_item_purchase_value\n",
    "})\n",
    "hottest_items_sorted = hottest_items.sort_values(['Purchase Count'], ascending=False)\n",
    "\n",
    "#formatting\n",
    "hottest_items_sorted['Item Price'] = hottest_items_sorted['Item Price'].astype(float).map(\"${:,.2f}\".format)\n",
    "hottest_items_sorted['Total Purchase Value'] = hottest_items_sorted[\"Total Purchase Value\"].astype(float).map(\"${:,.2f}\".format)\n",
    "\n",
    "hottest_items_sorted.head()\n"
   ]
  },
  {
   "cell_type": "code",
   "execution_count": 11,
   "metadata": {},
   "outputs": [
    {
     "output_type": "execute_result",
     "data": {
      "text/plain": [
       "                                                      Purchase Count  \\\n",
       "Item ID Item Name                                                      \n",
       "92      Final Critic                                              13   \n",
       "178     Oathbreaker, Last Hope of the Breaking Storm              12   \n",
       "82      Nirvana                                                    9   \n",
       "145     Fiery Glass Crusader                                       9   \n",
       "103     Singed Scalpel                                             8   \n",
       "\n",
       "                                                     Item Price  \\\n",
       "Item ID Item Name                                                 \n",
       "92      Final Critic                                      $4.61   \n",
       "178     Oathbreaker, Last Hope of the Breaking Storm      $4.23   \n",
       "82      Nirvana                                           $4.90   \n",
       "145     Fiery Glass Crusader                              $4.58   \n",
       "103     Singed Scalpel                                    $4.35   \n",
       "\n",
       "                                                     Total Purchase Value  \n",
       "Item ID Item Name                                                          \n",
       "92      Final Critic                                               $59.99  \n",
       "178     Oathbreaker, Last Hope of the Breaking Storm               $50.76  \n",
       "82      Nirvana                                                    $44.10  \n",
       "145     Fiery Glass Crusader                                       $41.22  \n",
       "103     Singed Scalpel                                             $34.80  "
      ],
      "text/html": "<div>\n<style scoped>\n    .dataframe tbody tr th:only-of-type {\n        vertical-align: middle;\n    }\n\n    .dataframe tbody tr th {\n        vertical-align: top;\n    }\n\n    .dataframe thead th {\n        text-align: right;\n    }\n</style>\n<table border=\"1\" class=\"dataframe\">\n  <thead>\n    <tr style=\"text-align: right;\">\n      <th></th>\n      <th></th>\n      <th>Purchase Count</th>\n      <th>Item Price</th>\n      <th>Total Purchase Value</th>\n    </tr>\n    <tr>\n      <th>Item ID</th>\n      <th>Item Name</th>\n      <th></th>\n      <th></th>\n      <th></th>\n    </tr>\n  </thead>\n  <tbody>\n    <tr>\n      <th>92</th>\n      <th>Final Critic</th>\n      <td>13</td>\n      <td>$4.61</td>\n      <td>$59.99</td>\n    </tr>\n    <tr>\n      <th>178</th>\n      <th>Oathbreaker, Last Hope of the Breaking Storm</th>\n      <td>12</td>\n      <td>$4.23</td>\n      <td>$50.76</td>\n    </tr>\n    <tr>\n      <th>82</th>\n      <th>Nirvana</th>\n      <td>9</td>\n      <td>$4.90</td>\n      <td>$44.10</td>\n    </tr>\n    <tr>\n      <th>145</th>\n      <th>Fiery Glass Crusader</th>\n      <td>9</td>\n      <td>$4.58</td>\n      <td>$41.22</td>\n    </tr>\n    <tr>\n      <th>103</th>\n      <th>Singed Scalpel</th>\n      <td>8</td>\n      <td>$4.35</td>\n      <td>$34.80</td>\n    </tr>\n  </tbody>\n</table>\n</div>"
     },
     "metadata": {},
     "execution_count": 11
    }
   ],
   "source": [
    "#Most Profitable Items\n",
    "\n",
    "profitable_items = hottest_items.sort_values('Total Purchase Value', ascending=False)\n",
    "\n",
    "#formatting\n",
    "profitable_items['Item Price'] = profitable_items['Item Price'].astype(float).map(\"${:,.2f}\".format)\n",
    "profitable_items['Total Purchase Value'] = profitable_items[\"Total Purchase Value\"].astype(float).map(\"${:,.2f}\".format)\n",
    "\n",
    "profitable_items.head()"
   ]
  }
 ]
}